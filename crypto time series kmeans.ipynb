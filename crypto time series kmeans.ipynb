{
  "nbformat": 4,
  "nbformat_minor": 0,
  "metadata": {
    "colab": {
      "provenance": [],
      "toc_visible": true
    },
    "kernelspec": {
      "name": "python3",
      "display_name": "Python 3"
    },
    "language_info": {
      "name": "python"
    }
  },
  "cells": [
    {
      "cell_type": "code",
      "execution_count": 1,
      "metadata": {
        "colab": {
          "base_uri": "https://localhost:8080/"
        },
        "id": "0dq8XupFG7Qj",
        "outputId": "1538724e-d803-4228-d9f3-fe954b9a968c"
      },
      "outputs": [
        {
          "output_type": "stream",
          "name": "stdout",
          "text": [
            "Collecting tslearn\n",
            "  Downloading tslearn-0.6.3-py3-none-any.whl (374 kB)\n",
            "\u001b[2K     \u001b[90m━━━━━━━━━━━━━━━━━━━━━━━━━━━━━━━━━━━━━━━━\u001b[0m \u001b[32m374.4/374.4 kB\u001b[0m \u001b[31m3.5 MB/s\u001b[0m eta \u001b[36m0:00:00\u001b[0m\n",
            "\u001b[?25hRequirement already satisfied: numpy in /usr/local/lib/python3.10/dist-packages (from tslearn) (1.25.2)\n",
            "Requirement already satisfied: scipy in /usr/local/lib/python3.10/dist-packages (from tslearn) (1.11.4)\n",
            "Requirement already satisfied: scikit-learn in /usr/local/lib/python3.10/dist-packages (from tslearn) (1.2.2)\n",
            "Requirement already satisfied: numba in /usr/local/lib/python3.10/dist-packages (from tslearn) (0.58.1)\n",
            "Requirement already satisfied: joblib in /usr/local/lib/python3.10/dist-packages (from tslearn) (1.4.2)\n",
            "Requirement already satisfied: llvmlite<0.42,>=0.41.0dev0 in /usr/local/lib/python3.10/dist-packages (from numba->tslearn) (0.41.1)\n",
            "Requirement already satisfied: threadpoolctl>=2.0.0 in /usr/local/lib/python3.10/dist-packages (from scikit-learn->tslearn) (3.5.0)\n",
            "Installing collected packages: tslearn\n",
            "Successfully installed tslearn-0.6.3\n"
          ]
        }
      ],
      "source": [
        "!pip install tslearn\n"
      ]
    },
    {
      "cell_type": "code",
      "execution_count": null,
      "metadata": {
        "id": "WuVe1BX_JguP"
      },
      "outputs": [],
      "source": [
        "import os\n",
        "import math\n",
        "import pandas as pd\n",
        "#import matplotlib.pyplot as plt\n",
        "import numpy as np\n",
        "import matplotlib.pyplot as plt\n",
        "from tslearn.clustering import TimeSeriesKMeans\n",
        "from sklearn.preprocessing import MinMaxScaler\n"
      ]
    },
    {
      "cell_type": "code",
      "source": [
        "directory = 'crypto_data'\n",
        "clusters_number = 4 # sqrt of 16 different cryptocurrency historic data"
      ],
      "metadata": {
        "id": "9kRndLq4Jf54"
      },
      "execution_count": null,
      "outputs": []
    },
    {
      "cell_type": "code",
      "source": [
        "df_BTC = pd.read_csv(directory+ '/BCH-USD_Historical_Data.csv')\n",
        "df_BTC.head()"
      ],
      "metadata": {
        "colab": {
          "base_uri": "https://localhost:8080/",
          "height": 206
        },
        "id": "shtMI9N0wi5R",
        "outputId": "c1241e98-6d01-4f05-8500-08a0d6a7565c"
      },
      "execution_count": null,
      "outputs": [
        {
          "output_type": "execute_result",
          "data": {
            "text/plain": [
              "         Date        Open        High         Low       Close   Adj Close  \\\n",
              "0  2024-03-27  480.107361  551.345398  479.421234  539.793335  539.793335   \n",
              "1  2024-03-28  539.795349  585.368042  528.485901  569.156982  569.156982   \n",
              "2  2024-03-29  569.156982  637.706055  556.414246  621.782715  621.782715   \n",
              "3  2024-03-30  621.782715  622.934143  591.582642  597.110107  597.110107   \n",
              "4  2024-03-31  597.116760  691.443604  590.624207  680.421326  680.421326   \n",
              "\n",
              "       Volume  \n",
              "0  1460761937  \n",
              "1  1200994117  \n",
              "2  1535887261  \n",
              "3   648865139  \n",
              "4  1008114145  "
            ],
            "text/html": [
              "\n",
              "  <div id=\"df-52565dae-f491-4c33-a049-13001910c7e5\" class=\"colab-df-container\">\n",
              "    <div>\n",
              "<style scoped>\n",
              "    .dataframe tbody tr th:only-of-type {\n",
              "        vertical-align: middle;\n",
              "    }\n",
              "\n",
              "    .dataframe tbody tr th {\n",
              "        vertical-align: top;\n",
              "    }\n",
              "\n",
              "    .dataframe thead th {\n",
              "        text-align: right;\n",
              "    }\n",
              "</style>\n",
              "<table border=\"1\" class=\"dataframe\">\n",
              "  <thead>\n",
              "    <tr style=\"text-align: right;\">\n",
              "      <th></th>\n",
              "      <th>Date</th>\n",
              "      <th>Open</th>\n",
              "      <th>High</th>\n",
              "      <th>Low</th>\n",
              "      <th>Close</th>\n",
              "      <th>Adj Close</th>\n",
              "      <th>Volume</th>\n",
              "    </tr>\n",
              "  </thead>\n",
              "  <tbody>\n",
              "    <tr>\n",
              "      <th>0</th>\n",
              "      <td>2024-03-27</td>\n",
              "      <td>480.107361</td>\n",
              "      <td>551.345398</td>\n",
              "      <td>479.421234</td>\n",
              "      <td>539.793335</td>\n",
              "      <td>539.793335</td>\n",
              "      <td>1460761937</td>\n",
              "    </tr>\n",
              "    <tr>\n",
              "      <th>1</th>\n",
              "      <td>2024-03-28</td>\n",
              "      <td>539.795349</td>\n",
              "      <td>585.368042</td>\n",
              "      <td>528.485901</td>\n",
              "      <td>569.156982</td>\n",
              "      <td>569.156982</td>\n",
              "      <td>1200994117</td>\n",
              "    </tr>\n",
              "    <tr>\n",
              "      <th>2</th>\n",
              "      <td>2024-03-29</td>\n",
              "      <td>569.156982</td>\n",
              "      <td>637.706055</td>\n",
              "      <td>556.414246</td>\n",
              "      <td>621.782715</td>\n",
              "      <td>621.782715</td>\n",
              "      <td>1535887261</td>\n",
              "    </tr>\n",
              "    <tr>\n",
              "      <th>3</th>\n",
              "      <td>2024-03-30</td>\n",
              "      <td>621.782715</td>\n",
              "      <td>622.934143</td>\n",
              "      <td>591.582642</td>\n",
              "      <td>597.110107</td>\n",
              "      <td>597.110107</td>\n",
              "      <td>648865139</td>\n",
              "    </tr>\n",
              "    <tr>\n",
              "      <th>4</th>\n",
              "      <td>2024-03-31</td>\n",
              "      <td>597.116760</td>\n",
              "      <td>691.443604</td>\n",
              "      <td>590.624207</td>\n",
              "      <td>680.421326</td>\n",
              "      <td>680.421326</td>\n",
              "      <td>1008114145</td>\n",
              "    </tr>\n",
              "  </tbody>\n",
              "</table>\n",
              "</div>\n",
              "    <div class=\"colab-df-buttons\">\n",
              "\n",
              "  <div class=\"colab-df-container\">\n",
              "    <button class=\"colab-df-convert\" onclick=\"convertToInteractive('df-52565dae-f491-4c33-a049-13001910c7e5')\"\n",
              "            title=\"Convert this dataframe to an interactive table.\"\n",
              "            style=\"display:none;\">\n",
              "\n",
              "  <svg xmlns=\"http://www.w3.org/2000/svg\" height=\"24px\" viewBox=\"0 -960 960 960\">\n",
              "    <path d=\"M120-120v-720h720v720H120Zm60-500h600v-160H180v160Zm220 220h160v-160H400v160Zm0 220h160v-160H400v160ZM180-400h160v-160H180v160Zm440 0h160v-160H620v160ZM180-180h160v-160H180v160Zm440 0h160v-160H620v160Z\"/>\n",
              "  </svg>\n",
              "    </button>\n",
              "\n",
              "  <style>\n",
              "    .colab-df-container {\n",
              "      display:flex;\n",
              "      gap: 12px;\n",
              "    }\n",
              "\n",
              "    .colab-df-convert {\n",
              "      background-color: #E8F0FE;\n",
              "      border: none;\n",
              "      border-radius: 50%;\n",
              "      cursor: pointer;\n",
              "      display: none;\n",
              "      fill: #1967D2;\n",
              "      height: 32px;\n",
              "      padding: 0 0 0 0;\n",
              "      width: 32px;\n",
              "    }\n",
              "\n",
              "    .colab-df-convert:hover {\n",
              "      background-color: #E2EBFA;\n",
              "      box-shadow: 0px 1px 2px rgba(60, 64, 67, 0.3), 0px 1px 3px 1px rgba(60, 64, 67, 0.15);\n",
              "      fill: #174EA6;\n",
              "    }\n",
              "\n",
              "    .colab-df-buttons div {\n",
              "      margin-bottom: 4px;\n",
              "    }\n",
              "\n",
              "    [theme=dark] .colab-df-convert {\n",
              "      background-color: #3B4455;\n",
              "      fill: #D2E3FC;\n",
              "    }\n",
              "\n",
              "    [theme=dark] .colab-df-convert:hover {\n",
              "      background-color: #434B5C;\n",
              "      box-shadow: 0px 1px 3px 1px rgba(0, 0, 0, 0.15);\n",
              "      filter: drop-shadow(0px 1px 2px rgba(0, 0, 0, 0.3));\n",
              "      fill: #FFFFFF;\n",
              "    }\n",
              "  </style>\n",
              "\n",
              "    <script>\n",
              "      const buttonEl =\n",
              "        document.querySelector('#df-52565dae-f491-4c33-a049-13001910c7e5 button.colab-df-convert');\n",
              "      buttonEl.style.display =\n",
              "        google.colab.kernel.accessAllowed ? 'block' : 'none';\n",
              "\n",
              "      async function convertToInteractive(key) {\n",
              "        const element = document.querySelector('#df-52565dae-f491-4c33-a049-13001910c7e5');\n",
              "        const dataTable =\n",
              "          await google.colab.kernel.invokeFunction('convertToInteractive',\n",
              "                                                    [key], {});\n",
              "        if (!dataTable) return;\n",
              "\n",
              "        const docLinkHtml = 'Like what you see? Visit the ' +\n",
              "          '<a target=\"_blank\" href=https://colab.research.google.com/notebooks/data_table.ipynb>data table notebook</a>'\n",
              "          + ' to learn more about interactive tables.';\n",
              "        element.innerHTML = '';\n",
              "        dataTable['output_type'] = 'display_data';\n",
              "        await google.colab.output.renderOutput(dataTable, element);\n",
              "        const docLink = document.createElement('div');\n",
              "        docLink.innerHTML = docLinkHtml;\n",
              "        element.appendChild(docLink);\n",
              "      }\n",
              "    </script>\n",
              "  </div>\n",
              "\n",
              "\n",
              "<div id=\"df-81265acb-5141-4cf9-a7e1-3b12f3325e3f\">\n",
              "  <button class=\"colab-df-quickchart\" onclick=\"quickchart('df-81265acb-5141-4cf9-a7e1-3b12f3325e3f')\"\n",
              "            title=\"Suggest charts\"\n",
              "            style=\"display:none;\">\n",
              "\n",
              "<svg xmlns=\"http://www.w3.org/2000/svg\" height=\"24px\"viewBox=\"0 0 24 24\"\n",
              "     width=\"24px\">\n",
              "    <g>\n",
              "        <path d=\"M19 3H5c-1.1 0-2 .9-2 2v14c0 1.1.9 2 2 2h14c1.1 0 2-.9 2-2V5c0-1.1-.9-2-2-2zM9 17H7v-7h2v7zm4 0h-2V7h2v10zm4 0h-2v-4h2v4z\"/>\n",
              "    </g>\n",
              "</svg>\n",
              "  </button>\n",
              "\n",
              "<style>\n",
              "  .colab-df-quickchart {\n",
              "      --bg-color: #E8F0FE;\n",
              "      --fill-color: #1967D2;\n",
              "      --hover-bg-color: #E2EBFA;\n",
              "      --hover-fill-color: #174EA6;\n",
              "      --disabled-fill-color: #AAA;\n",
              "      --disabled-bg-color: #DDD;\n",
              "  }\n",
              "\n",
              "  [theme=dark] .colab-df-quickchart {\n",
              "      --bg-color: #3B4455;\n",
              "      --fill-color: #D2E3FC;\n",
              "      --hover-bg-color: #434B5C;\n",
              "      --hover-fill-color: #FFFFFF;\n",
              "      --disabled-bg-color: #3B4455;\n",
              "      --disabled-fill-color: #666;\n",
              "  }\n",
              "\n",
              "  .colab-df-quickchart {\n",
              "    background-color: var(--bg-color);\n",
              "    border: none;\n",
              "    border-radius: 50%;\n",
              "    cursor: pointer;\n",
              "    display: none;\n",
              "    fill: var(--fill-color);\n",
              "    height: 32px;\n",
              "    padding: 0;\n",
              "    width: 32px;\n",
              "  }\n",
              "\n",
              "  .colab-df-quickchart:hover {\n",
              "    background-color: var(--hover-bg-color);\n",
              "    box-shadow: 0 1px 2px rgba(60, 64, 67, 0.3), 0 1px 3px 1px rgba(60, 64, 67, 0.15);\n",
              "    fill: var(--button-hover-fill-color);\n",
              "  }\n",
              "\n",
              "  .colab-df-quickchart-complete:disabled,\n",
              "  .colab-df-quickchart-complete:disabled:hover {\n",
              "    background-color: var(--disabled-bg-color);\n",
              "    fill: var(--disabled-fill-color);\n",
              "    box-shadow: none;\n",
              "  }\n",
              "\n",
              "  .colab-df-spinner {\n",
              "    border: 2px solid var(--fill-color);\n",
              "    border-color: transparent;\n",
              "    border-bottom-color: var(--fill-color);\n",
              "    animation:\n",
              "      spin 1s steps(1) infinite;\n",
              "  }\n",
              "\n",
              "  @keyframes spin {\n",
              "    0% {\n",
              "      border-color: transparent;\n",
              "      border-bottom-color: var(--fill-color);\n",
              "      border-left-color: var(--fill-color);\n",
              "    }\n",
              "    20% {\n",
              "      border-color: transparent;\n",
              "      border-left-color: var(--fill-color);\n",
              "      border-top-color: var(--fill-color);\n",
              "    }\n",
              "    30% {\n",
              "      border-color: transparent;\n",
              "      border-left-color: var(--fill-color);\n",
              "      border-top-color: var(--fill-color);\n",
              "      border-right-color: var(--fill-color);\n",
              "    }\n",
              "    40% {\n",
              "      border-color: transparent;\n",
              "      border-right-color: var(--fill-color);\n",
              "      border-top-color: var(--fill-color);\n",
              "    }\n",
              "    60% {\n",
              "      border-color: transparent;\n",
              "      border-right-color: var(--fill-color);\n",
              "    }\n",
              "    80% {\n",
              "      border-color: transparent;\n",
              "      border-right-color: var(--fill-color);\n",
              "      border-bottom-color: var(--fill-color);\n",
              "    }\n",
              "    90% {\n",
              "      border-color: transparent;\n",
              "      border-bottom-color: var(--fill-color);\n",
              "    }\n",
              "  }\n",
              "</style>\n",
              "\n",
              "  <script>\n",
              "    async function quickchart(key) {\n",
              "      const quickchartButtonEl =\n",
              "        document.querySelector('#' + key + ' button');\n",
              "      quickchartButtonEl.disabled = true;  // To prevent multiple clicks.\n",
              "      quickchartButtonEl.classList.add('colab-df-spinner');\n",
              "      try {\n",
              "        const charts = await google.colab.kernel.invokeFunction(\n",
              "            'suggestCharts', [key], {});\n",
              "      } catch (error) {\n",
              "        console.error('Error during call to suggestCharts:', error);\n",
              "      }\n",
              "      quickchartButtonEl.classList.remove('colab-df-spinner');\n",
              "      quickchartButtonEl.classList.add('colab-df-quickchart-complete');\n",
              "    }\n",
              "    (() => {\n",
              "      let quickchartButtonEl =\n",
              "        document.querySelector('#df-81265acb-5141-4cf9-a7e1-3b12f3325e3f button');\n",
              "      quickchartButtonEl.style.display =\n",
              "        google.colab.kernel.accessAllowed ? 'block' : 'none';\n",
              "    })();\n",
              "  </script>\n",
              "</div>\n",
              "    </div>\n",
              "  </div>\n"
            ],
            "application/vnd.google.colaboratory.intrinsic+json": {
              "type": "dataframe",
              "variable_name": "df_BTC",
              "summary": "{\n  \"name\": \"df_BTC\",\n  \"rows\": 32,\n  \"fields\": [\n    {\n      \"column\": \"Date\",\n      \"properties\": {\n        \"dtype\": \"object\",\n        \"num_unique_values\": 32,\n        \"samples\": [\n          \"2024-04-25\",\n          \"2024-04-11\",\n          \"2024-04-20\"\n        ],\n        \"semantic_type\": \"\",\n        \"description\": \"\"\n      }\n    },\n    {\n      \"column\": \"Open\",\n      \"properties\": {\n        \"dtype\": \"number\",\n        \"std\": 79.83987896505867,\n        \"min\": 463.619568,\n        \"max\": 695.1604,\n        \"num_unique_values\": 32,\n        \"samples\": [\n          479.015228,\n          629.467529,\n          477.115814\n        ],\n        \"semantic_type\": \"\",\n        \"description\": \"\"\n      }\n    },\n    {\n      \"column\": \"High\",\n      \"properties\": {\n        \"dtype\": \"number\",\n        \"std\": 84.09166746683876,\n        \"min\": 484.765198,\n        \"max\": 714.062439,\n        \"num_unique_values\": 32,\n        \"samples\": [\n          485.632629,\n          629.467529,\n          522.018494\n        ],\n        \"semantic_type\": \"\",\n        \"description\": \"\"\n      }\n    },\n    {\n      \"column\": \"Low\",\n      \"properties\": {\n        \"dtype\": \"number\",\n        \"std\": 77.38297914514116,\n        \"min\": 446.040863,\n        \"max\": 680.19043,\n        \"num_unique_values\": 32,\n        \"samples\": [\n          467.799194,\n          601.062439,\n          471.718842\n        ],\n        \"semantic_type\": \"\",\n        \"description\": \"\"\n      }\n    },\n    {\n      \"column\": \"Close\",\n      \"properties\": {\n        \"dtype\": \"number\",\n        \"std\": 79.93389702964213,\n        \"min\": 463.614807,\n        \"max\": 695.1604,\n        \"num_unique_values\": 32,\n        \"samples\": [\n          478.724457,\n          614.317261,\n          515.57373\n        ],\n        \"semantic_type\": \"\",\n        \"description\": \"\"\n      }\n    },\n    {\n      \"column\": \"Adj Close\",\n      \"properties\": {\n        \"dtype\": \"number\",\n        \"std\": 79.93389702964213,\n        \"min\": 463.614807,\n        \"max\": 695.1604,\n        \"num_unique_values\": 32,\n        \"samples\": [\n          478.724457,\n          614.317261,\n          515.57373\n        ],\n        \"semantic_type\": \"\",\n        \"description\": \"\"\n      }\n    },\n    {\n      \"column\": \"Volume\",\n      \"properties\": {\n        \"dtype\": \"number\",\n        \"std\": 486259479,\n        \"min\": 300240918,\n        \"max\": 1966188490,\n        \"num_unique_values\": 32,\n        \"samples\": [\n          337139336,\n          531145133,\n          481997719\n        ],\n        \"semantic_type\": \"\",\n        \"description\": \"\"\n      }\n    }\n  ]\n}"
            }
          },
          "metadata": {},
          "execution_count": 31
        }
      ]
    },
    {
      "cell_type": "code",
      "source": [
        "df_BTC.isnull().sum()"
      ],
      "metadata": {
        "colab": {
          "base_uri": "https://localhost:8080/"
        },
        "id": "T2mLxS5zzJKh",
        "outputId": "c06ceb0e-73aa-4693-98b5-5fd3928d3ca0"
      },
      "execution_count": null,
      "outputs": [
        {
          "output_type": "execute_result",
          "data": {
            "text/plain": [
              "Date         0\n",
              "Open         0\n",
              "High         0\n",
              "Low          0\n",
              "Close        0\n",
              "Adj Close    0\n",
              "Volume       0\n",
              "dtype: int64"
            ]
          },
          "metadata": {},
          "execution_count": 36
        }
      ]
    },
    {
      "cell_type": "code",
      "source": [
        "df_BTC.columns"
      ],
      "metadata": {
        "colab": {
          "base_uri": "https://localhost:8080/"
        },
        "id": "vfjY6wUIxOrQ",
        "outputId": "33532b90-96a4-4384-807b-7ba545f88861"
      },
      "execution_count": null,
      "outputs": [
        {
          "output_type": "stream",
          "name": "stdout",
          "text": [
            "<class 'pandas.core.frame.DataFrame'>\n",
            "RangeIndex: 32 entries, 0 to 31\n",
            "Data columns (total 7 columns):\n",
            " #   Column     Non-Null Count  Dtype  \n",
            "---  ------     --------------  -----  \n",
            " 0   Date       32 non-null     object \n",
            " 1   Open       32 non-null     float64\n",
            " 2   High       32 non-null     float64\n",
            " 3   Low        32 non-null     float64\n",
            " 4   Close      32 non-null     float64\n",
            " 5   Adj Close  32 non-null     float64\n",
            " 6   Volume     32 non-null     int64  \n",
            "dtypes: float64(5), int64(1), object(1)\n",
            "memory usage: 1.9+ KB\n"
          ]
        }
      ]
    },
    {
      "cell_type": "code",
      "source": [
        "df_BTC.info()"
      ],
      "metadata": {
        "id": "xHqd3t5myyMM",
        "outputId": "821a93c0-dc4f-4ca1-a2d6-0871abc233ef",
        "colab": {
          "base_uri": "https://localhost:8080/"
        }
      },
      "execution_count": null,
      "outputs": [
        {
          "output_type": "stream",
          "name": "stdout",
          "text": [
            "<class 'pandas.core.frame.DataFrame'>\n",
            "RangeIndex: 32 entries, 0 to 31\n",
            "Data columns (total 7 columns):\n",
            " #   Column     Non-Null Count  Dtype  \n",
            "---  ------     --------------  -----  \n",
            " 0   Date       32 non-null     object \n",
            " 1   Open       32 non-null     float64\n",
            " 2   High       32 non-null     float64\n",
            " 3   Low        32 non-null     float64\n",
            " 4   Close      32 non-null     float64\n",
            " 5   Adj Close  32 non-null     float64\n",
            " 6   Volume     32 non-null     int64  \n",
            "dtypes: float64(5), int64(1), object(1)\n",
            "memory usage: 1.9+ KB\n"
          ]
        }
      ]
    },
    {
      "cell_type": "code",
      "source": [
        "mySeries = []\n",
        "namesofMySeries = []\n",
        "for filename in os.listdir(directory):\n",
        "    if filename.endswith(\".csv\"):\n",
        "        df = pd.read_csv(directory + '/' + filename)\n",
        "        open_values = np.array(df[[\"Open\"]])\n",
        "        close_values = np.array(df[['Close']])\n",
        "        change_values = open_values-close_values #calculate the change in price\n",
        "        df.insert(1,\"Change\",change_values,True) # add Change data to df\n",
        "        df = df.loc[:,[\"Date\",\"Change\"]]\n",
        "        df.set_index(\"Date\",inplace=True) #set date as index\n",
        "        df.sort_index(inplace=True)\n",
        "\n",
        "        mySeries.append(df) # add crypto data to list\n",
        "        namesofMySeries.append(filename.split('_')[0]) #add crypto ticker from start of filename to list\n",
        "\n",
        "print(namesofMySeries)\n",
        "print(len(namesofMySeries))"
      ],
      "metadata": {
        "colab": {
          "base_uri": "https://localhost:8080/"
        },
        "id": "sVPtnvGdOwT8",
        "outputId": "3cff4b0a-01f6-43c5-f2af-8ab670c1efb5"
      },
      "execution_count": null,
      "outputs": [
        {
          "output_type": "stream",
          "name": "stdout",
          "text": [
            "['ETH-USD', 'SHIB-USD', 'BNB-USD', 'BTC-USD', 'TON-USD', 'BCH-USD', 'LINK-USD', 'ADA-USD', 'DOT-USD', 'USDT-USD', 'USDC-USD', 'TRX-USD', 'DOGE-USD', 'SOL-USD', 'AVAX-USD']\n",
            "15\n"
          ]
        }
      ]
    },
    {
      "cell_type": "code",
      "source": [
        "print(len(namesofMySeries))\n",
        "series_lengths = {len(series) for series in mySeries}\n",
        "print(series_lengths)"
      ],
      "metadata": {
        "colab": {
          "base_uri": "https://localhost:8080/"
        },
        "id": "u60qRCj_oSv2",
        "outputId": "26f858fb-3ba7-41a1-f622-32dae9f3a33f"
      },
      "execution_count": null,
      "outputs": [
        {
          "output_type": "stream",
          "name": "stdout",
          "text": [
            "15\n",
            "{32}\n"
          ]
        }
      ]
    },
    {
      "cell_type": "code",
      "source": [
        "for i in range(len(mySeries)):\n",
        "    scaler = MinMaxScaler()\n",
        "    mySeries[i] = MinMaxScaler().fit_transform(mySeries[i])\n",
        "    mySeries[i]= mySeries[i].reshape(len(mySeries[i]))\n",
        "\n",
        "\n",
        "print(\"max: \"+str(max(mySeries[0]))+\"\\tmin: \"+str(min(mySeries[0])))\n",
        "print(mySeries[0][:5])"
      ],
      "metadata": {
        "id": "46_tKymCP5wd",
        "colab": {
          "base_uri": "https://localhost:8080/"
        },
        "outputId": "0de93bed-4844-43f4-8153-ef01460287b1"
      },
      "execution_count": null,
      "outputs": [
        {
          "output_type": "stream",
          "name": "stdout",
          "text": [
            "max: 1.0\tmin: 0.0\n",
            "[0.65264769 0.35850041 0.5772782  0.48736892 0.20212539]\n"
          ]
        }
      ]
    },
    {
      "cell_type": "code",
      "source": [
        "km = TimeSeriesKMeans(n_clusters=clusters_number, metric=\"dtw\")\n",
        "labels = km.fit_predict(mySeries)\n",
        "fancy_names_for_labels = [f\"Cluster {label}\" for label in labels]\n",
        "results=pd.DataFrame(zip(namesofMySeries,fancy_names_for_labels),columns=[\"Series\",\"Cluster\"]).sort_values(by=\"Cluster\").set_index(\"Series\")\n",
        "print(results)"
      ],
      "metadata": {
        "colab": {
          "base_uri": "https://localhost:8080/"
        },
        "id": "BcrwiJl_o_GZ",
        "outputId": "efd6f49a-a0ed-4044-a6ad-abd60704ff1b"
      },
      "execution_count": null,
      "outputs": [
        {
          "output_type": "stream",
          "name": "stdout",
          "text": [
            "            Cluster\n",
            "Series             \n",
            "SHIB-USD  Cluster 0\n",
            "BNB-USD   Cluster 0\n",
            "TON-USD   Cluster 0\n",
            "LINK-USD  Cluster 0\n",
            "ADA-USD   Cluster 0\n",
            "DOT-USD   Cluster 0\n",
            "USDT-USD  Cluster 0\n",
            "USDC-USD  Cluster 0\n",
            "TRX-USD   Cluster 0\n",
            "DOGE-USD  Cluster 0\n",
            "SOL-USD   Cluster 0\n",
            "AVAX-USD  Cluster 0\n",
            "BTC-USD   Cluster 1\n",
            "ETH-USD   Cluster 2\n",
            "BCH-USD   Cluster 3\n"
          ]
        }
      ]
    }
  ]
}