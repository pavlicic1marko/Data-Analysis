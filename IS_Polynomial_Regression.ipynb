{
  "nbformat": 4,
  "nbformat_minor": 0,
  "metadata": {
    "colab": {
      "provenance": []
    },
    "kernelspec": {
      "name": "python3",
      "display_name": "Python 3"
    },
    "language_info": {
      "name": "python"
    }
  },
  "cells": [
    {
      "cell_type": "code",
      "execution_count": 1,
      "metadata": {
        "id": "l_XYemVWkpYz"
      },
      "outputs": [],
      "source": [
        "import numpy as np\n",
        "import matplotlib.pyplot as plt\n",
        "import sklearn\n",
        "from sklearn.linear_model import LinearRegression"
      ]
    },
    {
      "cell_type": "code",
      "source": [
        "x = np.linspace(-50,150,50)\n",
        "y= 0.15 * x**3 - 20 *x**2 +5*x -4 + 30000 * np.random.rand(50)#\n",
        "model_linear = LinearRegression(fit_intercept=True)\n",
        "model_squared = LinearRegression(fit_intercept=True)\n",
        "model_cubic = LinearRegression(fit_intercept=True)\n",
        "x2 = x**2\n",
        "x3 = x**3\n",
        "model_linear.fit(np.vstack([x]).T,y)\n",
        "model_squared.fit(np.vstack([x,x2]).T,y)\n",
        "model_cubic.fit(np.vstack([x,x2,x3]).T,y)\n",
        "xf = np.linspace(-50,150,50)\n",
        "yf_linear = model_linear.predict(np.vstack([x]).T)\n",
        "yf_squared = model_squared.predict(np.vstack([x,x2]).T)\n",
        "yf_cubic = model_cubic.predict(np.vstack([x,x2,x3]).T)\n",
        "plt.scatter(x,y, color=\"black\")\n",
        "plt.plot(xf,yf_linear,label=\"linear\")\n",
        "plt.plot(xf,yf_squared,label=\"squared\")\n",
        "plt.plot(xf,yf_cubic,label=\"cubic\")\n",
        "plt.legend()\n",
        "print(model_cubic.coef_,model_cubic.intercept_)\n",
        "\n"
      ],
      "metadata": {
        "id": "sX66zCbnlpwg"
      },
      "execution_count": null,
      "outputs": []
    }
  ]
}